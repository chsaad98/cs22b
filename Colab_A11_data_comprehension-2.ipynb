{
 "cells": [
  {
   "cell_type": "markdown",
   "metadata": {
    "id": "-ZHVRHMui18N"
   },
   "source": [
    "# Data comprehension\n",
    "Practice working with list comprehension, dictionary comprehension and set comprehension following Lec 11"
   ]
  },
  {
   "cell_type": "markdown",
   "metadata": {
    "id": "INt5QZg_yTgG"
   },
   "source": [
    "**Ques 1:**\n",
    "You are given the list below, make column 0(the words) the key for a dictionary with the values as the rest of the list.\n",
    "\n",
    "```\n",
    "list_pos = [\n",
    "    ['drawer', 141, 2, 3],\n",
    "    ['hedge', 213, 1, 6],\n",
    "    ['pantry', 328, 1, 7]\n",
    "]\n",
    "\n",
    "list_pos\n",
    "\n",
    "# You output should be:\n",
    "\n",
    "{'drawer': [141, 2, 3], 'hedge': [213, 1, 6], 'pantry': [328, 1, 7]}\n",
    "\n",
    "```\n",
    "\n",
    "Requirement: Do both traditional loops and list comprehensions.\n"
   ]
  },
  {
   "cell_type": "code",
   "execution_count": 11,
   "metadata": {
    "colab": {
     "base_uri": "https://localhost:8080/"
    },
    "id": "dX7uE78eyTgD",
    "outputId": "e1c18986-5c9f-4fa4-8206-4c57d9e8b361"
   },
   "outputs": [
    {
     "data": {
      "text/plain": [
       "[['drawer', 141, 2, 3], ['hedge', 213, 1, 6], ['pantry', 328, 1, 7]]"
      ]
     },
     "execution_count": 11,
     "metadata": {},
     "output_type": "execute_result"
    }
   ],
   "source": [
    "#postion of a word in a dictionary\n",
    "list_pos = [\n",
    "    ['drawer', 141, 2, 3],\n",
    "    ['hedge', 213, 1, 6],\n",
    "    ['pantry', 328, 1, 7]\n",
    "]\n",
    "\n",
    "list_pos"
   ]
  },
  {
   "cell_type": "code",
   "execution_count": 12,
   "metadata": {
    "id": "s2cCUs6PWCtf"
   },
   "outputs": [
    {
     "name": "stdout",
     "output_type": "stream",
     "text": [
      "Using traditional loop: {'drawer': [141, 2, 3], 'hedge': [213, 1, 6], 'pantry': [328, 1, 7]}\n",
      "Using comprehension: {'drawer': [141, 2, 3], 'hedge': [213, 1, 6], 'pantry': [328, 1, 7]}\n"
     ]
    }
   ],
   "source": [
    "list_pos = [\n",
    "    ['drawer', 141, 2, 3],\n",
    "    ['hedge', 213, 1, 6],\n",
    "    ['pantry', 328, 1, 7]\n",
    "]\n",
    "dict_loop = {}\n",
    "for sublist in list_pos:\n",
    "    key = sublist[0]\n",
    "    value = sublist[1:]\n",
    "    dict_loop[key] = value\n",
    "dict_comp = {sublist[0]: sublist[1:] for sublist in list_pos}\n",
    "\n",
    "print(\"Using traditional loop:\", dict_loop)\n",
    "print(\"Using comprehension:\", dict_comp)"
   ]
  },
  {
   "cell_type": "markdown",
   "metadata": {
    "id": "kPV7FgpUHdt-"
   },
   "source": [
    "**Ques 2:** You are given the dictionary below, combine the keys(the words) and the values inside the dictionary and create a list.\n",
    "\n",
    "You output should be:\n",
    "\n",
    "\n",
    "\n",
    "```\n",
    "dictionary_pos = {\n",
    "    'drawer': [141, 2, 3],\n",
    "    'hedge': [213, 1, 6],\n",
    "    'pantry': [328, 1, 7]\n",
    "}\n",
    "\n",
    "dictionary_pos\n",
    "\n",
    "# Your output should:\n",
    "\n",
    "[['drawer', 141, 2, 3], ['hedge', 213, 1, 6], ['pantry', 328, 1, 7]]\n",
    "```\n",
    "\n",
    "Requirement: Do both traditional loops and list comprehensions."
   ]
  },
  {
   "cell_type": "code",
   "execution_count": 10,
   "metadata": {
    "colab": {
     "base_uri": "https://localhost:8080/"
    },
    "id": "VL-scbyryTgJ",
    "outputId": "70a7b178-3862-4d17-b7cf-8210838567da"
   },
   "outputs": [
    {
     "name": "stdout",
     "output_type": "stream",
     "text": [
      "Using traditional loop: []\n",
      "Using list comprehension: [['drawer', 141, 2, 3], ['hedge', 213, 1, 6], ['pantry', 328, 1, 7]]\n"
     ]
    }
   ],
   "source": [
    "#Your turn:\n",
    "#postion of a word in a dictionary\n",
    "dictionary_pos = {\n",
    "    'drawer': [141, 2, 3],\n",
    "    'hedge': [213, 1, 6],\n",
    "    'pantry': [328, 1, 7]\n",
    "}\n",
    "list_loop = []\n",
    "for key, value in dictionary_pos.items():\n",
    "    result_list_loop.append([key] + value)\n",
    "list_comp = [[key] + value for key, value in dictionary_pos.items()]\n",
    "\n",
    "print(\"Using traditional loop:\", list_loop)\n",
    "print(\"Using list comprehension:\", list_comp)"
   ]
  },
  {
   "cell_type": "code",
   "execution_count": null,
   "metadata": {
    "id": "KfZIsa9DyTgK"
   },
   "outputs": [],
   "source": [
    "# Solution"
   ]
  },
  {
   "cell_type": "markdown",
   "metadata": {
    "id": "cvER6YXv4Id5"
   },
   "source": [
    "**Ques 3:** Use list comprehension to rewrite the code, it can be done in one line (and you do not even need an if statement)\n",
    "\n",
    "```\n",
    "result = []\n",
    "myList = list(range(0, 13))\n",
    "for i in range(6, len(myList)):\n",
    "    if i%2 == 0:\n",
    "        result.append(i)\n",
    "\n",
    "result\n",
    "```\n",
    "\n"
   ]
  },
  {
   "cell_type": "code",
   "execution_count": 9,
   "metadata": {
    "colab": {
     "base_uri": "https://localhost:8080/"
    },
    "id": "HGOnba_myTgM",
    "outputId": "b2981e7e-3b4d-4172-8435-8d43353a3cf2"
   },
   "outputs": [],
   "source": [
    "#Your Code:\n",
    "result = [i for i in range(6, 13, 2)]"
   ]
  },
  {
   "cell_type": "markdown",
   "metadata": {
    "id": "H7IAbiwH4i-D"
   },
   "source": [
    "**Ques 4a:** Use the following code to perform the tasks given below:\n",
    "\n",
    "\n",
    "\n",
    "```\n",
    "set_a = {1, 2, 3, \"a\", \"b\", \"c\"}\n",
    "set_b = {2, 3, 4, \"c\", \"d\"}\n",
    "set_c = {2, 3, 'd', \"t\", \"a\"}\n",
    "```\n",
    "\n"
   ]
  },
  {
   "cell_type": "code",
   "execution_count": null,
   "metadata": {
    "colab": {
     "base_uri": "https://localhost:8080/"
    },
    "id": "iL4GrbZknT_y",
    "outputId": "4c2e884b-de6c-4295-cae2-9b5bb4c54ff0"
   },
   "outputs": [
    {
     "data": {
      "text/plain": [
       "{4, 'd'}"
      ]
     },
     "execution_count": 24,
     "metadata": {},
     "output_type": "execute_result"
    }
   ],
   "source": [
    "# The follow code is supposed to return the different elements in both sets of union_ab and set_a but not both of them.\n",
    "\n",
    "union_ab = set_a.union(set_b)\n",
    "result = set_c - union_ab  \n",
    "print(result)  \n",
    "result = {'d', 't'}  \n"
   ]
  },
  {
   "cell_type": "code",
   "execution_count": null,
   "metadata": {
    "colab": {
     "base_uri": "https://localhost:8080/"
    },
    "id": "iL4GrbZknT_y",
    "outputId": "4c2e884b-de6c-4295-cae2-9b5bb4c54ff0"
   },
   "outputs": [
    {
     "data": {
      "text/plain": [
       "{4, 'd'}"
      ]
     },
     "execution_count": 24,
     "metadata": {},
     "output_type": "execute_result"
    }
   ],
   "source": [
    "# Elements that occur just in set c and not in set a\n",
    "result = set_b - set_a\n",
    "print(result)"
   ]
  },
  {
   "cell_type": "markdown",
   "metadata": {
    "id": "E7LmZQwT5Mhr"
   },
   "source": [
    "**Ques 4b:** This piece of code will work the same as which of the following options:\n",
    "\n",
    "\n",
    "```\n",
    "difference_A = []\n",
    "for a in set_c:\n",
    "  if(not(a in set_a)):\n",
    "    difference_A.append(a)\n",
    "\n",
    "print(difference_A)\n",
    "```\n",
    "\n"
   ]
  },
  {
   "cell_type": "code",
   "execution_count": 14,
   "metadata": {
    "colab": {
     "base_uri": "https://localhost:8080/"
    },
    "id": "FvUCzqZuyTgN",
    "outputId": "63aff495-adfe-4d78-8a7d-44b834723e08"
   },
   "outputs": [
    {
     "name": "stdout",
     "output_type": "stream",
     "text": [
      "{'t', 'd'}\n"
     ]
    }
   ],
   "source": [
    "set_a = {1, 2, 3, \"a\", \"b\", \"c\"}\n",
    "set_c = {2, 3, 'd', \"t\", \"a\"}\n",
    "\n",
    "difference = set_c - set_a\n",
    "print(difference)"
   ]
  },
  {
   "cell_type": "markdown",
   "metadata": {
    "id": "i1TTuNdgyTgO"
   },
   "source": [
    "**Ques 5:** A procedural function called GC_content(data).\n",
    "Find the GC percentage for each of the elements in dna_list.\n",
    "data is the list, dna_list."
   ]
  },
  {
   "cell_type": "code",
   "execution_count": null,
   "metadata": {
    "colab": {
     "base_uri": "https://localhost:8080/"
    },
    "id": "awvBHjfFyTgO",
    "outputId": "a0b9fdb3-a99d-44c6-b50a-7d13b70a0dd3"
   },
   "outputs": [
    {
     "name": "stdout",
     "output_type": "stream",
     "text": [
      "GAAGTC: 50.0\n",
      "CGATATGC: 50.0\n",
      "GTCA: 50.0\n",
      "CGGACAGTAG: 40.0\n"
     ]
    }
   ],
   "source": [
    "dna_list = ['GAAGTC', 'CGATATGC', 'GTCA', 'CGGACAGTAG']\n"
   ]
  },
  {
   "cell_type": "code",
   "execution_count": 15,
   "metadata": {
    "colab": {
     "base_uri": "https://localhost:8080/"
    },
    "id": "NL90n2TOyTgO",
    "outputId": "0da6614d-6964-493b-b642-f15bfb083881"
   },
   "outputs": [
    {
     "name": "stdout",
     "output_type": "stream",
     "text": [
      "GAAGTC: 50.0\n",
      "CGATATGC: 50.0\n",
      "GTCA: 50.0\n",
      "CGGACAGTAG: 60.0\n"
     ]
    }
   ],
   "source": [
    "def GC_content(data):\n",
    "    for dna in data:\n",
    "        gc_count = dna.upper().count('G') + dna.upper().count('C')\n",
    "        gc_percentage = (gc_count / len(dna)) * 100\n",
    "        print(f\"{dna}: {gc_percentage:.1f}\")\n",
    "dna_list = ['GAAGTC', 'CGATATGC', 'GTCA', 'CGGACAGTAG']\n",
    "GC_content(dna_list)"
   ]
  },
  {
   "cell_type": "code",
   "execution_count": null,
   "metadata": {},
   "outputs": [],
   "source": []
  }
 ],
 "metadata": {
  "colab": {
   "provenance": []
  },
  "hide_input": false,
  "kernelspec": {
   "display_name": "Python 3 (ipykernel)",
   "language": "python",
   "name": "python3"
  },
  "language_info": {
   "codemirror_mode": {
    "name": "ipython",
    "version": 3
   },
   "file_extension": ".py",
   "mimetype": "text/x-python",
   "name": "python",
   "nbconvert_exporter": "python",
   "pygments_lexer": "ipython3",
   "version": "3.11.8"
  },
  "toc": {
   "base_numbering": 1,
   "nav_menu": {},
   "number_sections": true,
   "sideBar": true,
   "skip_h1_title": false,
   "title_cell": "Table of Contents",
   "title_sidebar": "Contents",
   "toc_cell": false,
   "toc_position": {},
   "toc_section_display": true,
   "toc_window_display": false
  }
 },
 "nbformat": 4,
 "nbformat_minor": 4
}
