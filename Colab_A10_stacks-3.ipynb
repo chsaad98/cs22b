{
 "cells": [
  {
   "cell_type": "markdown",
   "metadata": {
    "id": "cP32wAV3Yi-4"
   },
   "source": [
    "##**Stack Questions**"
   ]
  },
  {
   "cell_type": "markdown",
   "metadata": {
    "id": "KqdNjm1oY_ss"
   },
   "source": [
    "## Question 1: Write a function to sort a stack."
   ]
  },
  {
   "cell_type": "code",
   "execution_count": 1,
   "metadata": {
    "id": "mb9K46p3Ym0N"
   },
   "outputs": [
    {
     "name": "stdout",
     "output_type": "stream",
     "text": [
      "[98, 92, 34, 31, 23, 3]\n"
     ]
    }
   ],
   "source": [
    "def sort_stack(stack):\n",
    "    aux_stack = []\n",
    "    \n",
    "    while stack:\n",
    "        temp = stack.pop()\n",
    "        while aux_stack and aux_stack[-1] > temp:\n",
    "            stack.append(aux_stack.pop())\n",
    "        aux_stack.append(temp)\n",
    "    \n",
    "    while aux_stack:\n",
    "        stack.append(aux_stack.pop())\n",
    "\n",
    "    return stack\n",
    "\n",
    "stack = [34, 3, 31, 98, 92, 23]\n",
    "print(sort_stack(stack))\n"
   ]
  },
  {
   "cell_type": "markdown",
   "metadata": {
    "id": "jFxb6ss_Whwl"
   },
   "source": [
    "## Question 2: Depict the following image as a list.\n",
    "\n",
    "<img src=\"https://miro.medium.com/max/1050/1*XifPIMxbamGKhz5UAEdz2w.png\">\n",
    "\n",
    "#### Queue\n",
    "1. Add the number 9 to the list.\n",
    "2. Remove the first number (7) from the list.\n",
    "\n",
    "#### Stack\n",
    "3. Add the number 4 to the same list.\n",
    "4. Remove the last number added (4) from the list."
   ]
  },
  {
   "cell_type": "code",
   "execution_count": null,
   "metadata": {
    "id": "XOm7YLTEWhwm"
   },
   "outputs": [],
   "source": [
    "#Your Answer:\n",
    "Add the number 9 to the list: [7,3,1,6,8,9]\n",
    "Remove the first number (7) from the list:  [3,1,6,8,9]\n",
    "Add the number 4 to the same list: [3,1,6,8,9,4]\n",
    "Remove the last number added (4) from the list: [3,1,6,8,9]\n",
    "\n"
   ]
  },
  {
   "cell_type": "markdown",
   "metadata": {
    "id": "tQ3kgHVtWhwn"
   },
   "source": [
    "#### Question 3: Nodes\n",
    "\n",
    "<img src=\"https://encrypted-tbn0.gstatic.com/images?q=tbn:ANd9GcQW8-twGk0hCILE-muHBnG93hZJh2Qvgs7pVA&s\">\n",
    "\n",
    "1. Use a data structure of your choice to denote the different nodes.\n",
    "\n",
    "2. Create a function that sums all of the \"children\". Test with the node 10 (Expected answer is 37).\n"
   ]
  },
  {
   "cell_type": "code",
   "execution_count": 2,
   "metadata": {
    "id": "UU0rjzjXWhwn"
   },
   "outputs": [
    {
     "name": "stdout",
     "output_type": "stream",
     "text": [
      "37\n"
     ]
    }
   ],
   "source": [
    "graph = {\n",
    "    8: [3, 10],\n",
    "    3: [1, 6],\n",
    "    6: [4, 7],\n",
    "    10: [14],\n",
    "    14: [13],\n",
    "}\n",
    "\n",
    "def get_children(node):\n",
    "    children = set()\n",
    "    stack = [node]\n",
    "\n",
    "    while stack:\n",
    "        current_node = stack.pop()\n",
    "        if current_node not in children:\n",
    "            children.add(current_node)\n",
    "            stack.extend(graph.get(current_node, []))\n",
    "\n",
    "    return sum(children)\n",
    "\n",
    "print(get_children(10))\n"
   ]
  },
  {
   "cell_type": "code",
   "execution_count": null,
   "metadata": {},
   "outputs": [],
   "source": []
  }
 ],
 "metadata": {
  "colab": {
   "provenance": []
  },
  "hide_input": false,
  "kernelspec": {
   "display_name": "Python 3 (ipykernel)",
   "language": "python",
   "name": "python3"
  },
  "language_info": {
   "codemirror_mode": {
    "name": "ipython",
    "version": 3
   },
   "file_extension": ".py",
   "mimetype": "text/x-python",
   "name": "python",
   "nbconvert_exporter": "python",
   "pygments_lexer": "ipython3",
   "version": "3.11.8"
  },
  "toc": {
   "base_numbering": 1,
   "nav_menu": {},
   "number_sections": true,
   "sideBar": true,
   "skip_h1_title": false,
   "title_cell": "Table of Contents",
   "title_sidebar": "Contents",
   "toc_cell": false,
   "toc_position": {},
   "toc_section_display": true,
   "toc_window_display": false
  }
 },
 "nbformat": 4,
 "nbformat_minor": 4
}
